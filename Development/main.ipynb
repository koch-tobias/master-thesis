{
 "cells": [
  {
   "cell_type": "code",
   "execution_count": 1,
   "metadata": {},
   "outputs": [],
   "source": [
    "from pathlib import Path\n",
    "from loguru import logger\n",
    "import pickle\n",
    "import numpy as np\n",
    "from nltk.tokenize import WhitespaceTokenizer\n",
    "from ipynb.fs.defs.Feature_Engineering import add_new_features\n",
    "from ipynb.fs.defs.Feature_Engineering import preprocess_dataset\n",
    "from ipynb.fs.full.Prepare_data import prepare_and_add_labels\n",
    "from ipynb.fs.full.Prepare_data import load_csv_into_df\n",
    "from ipynb.fs.full.Prepare_data import prepare_text"
   ]
  },
  {
   "cell_type": "code",
   "execution_count": 18,
   "metadata": {},
   "outputs": [],
   "source": [
    "def main():\n",
    "    # Define the path to the folder containing the data (xls files)\n",
    "    data_path = Path(\"../data/original_data_new\")\n",
    "    dataframes = load_csv_into_df(data_path, original_prisma_data=False, move_to_archive=False)\n",
    "    df, ncars = prepare_and_add_labels(dataframes, save_as_excel=False)\n",
    "    \n",
    "    # Load model\n",
    "    model_path = \"../models/lgbm_15052023_1541.pkl\"\n",
    "    with open(model_path, \"rb\") as fid:\n",
    "        lgbm = pickle.load(fid)\n",
    "\n",
    "    # Load the vectorizer from the file\n",
    "    vectorizer_path = \"../models/vectorizer_15052023_1541.pkl\"\n",
    "    with open(vectorizer_path, 'rb') as f:\n",
    "        vectorizer = pickle.load(f)\n",
    "\n",
    "    # Get the vocabulary of the training data\n",
    "    vocab_path = '../models/vocabulary_15052023_1541.pkl'\n",
    "    with open(vocab_path, 'rb') as f:\n",
    "        vocabulary = pickle.load(f)\n",
    "    \n",
    "    for i in range(len(df)):\n",
    "\n",
    "        df_preprocessed, df_for_plot = preprocess_dataset(df[i], cut_percent_of_front=0.25)\n",
    "\n",
    "        logger.info(f\"Start predicting relevant parts for the {ncars[i]} ...\")\n",
    "\n",
    "        df_preprocessed[\"Benennung (dt)\"] = df_preprocessed.apply(lambda x: prepare_text(x[\"Benennung (dt)\"]), axis=1)\n",
    "\n",
    "        # Convert the vocabulary list to a dictionary\n",
    "        vocabulary_dict = {word: index for index, word in enumerate(vocabulary)}\n",
    "\n",
    "        # Set the vocabulary of the vectorizer to the loaded vocabulary\n",
    "        vectorizer.vocabulary_ = vocabulary_dict\n",
    "        X = vectorizer.transform(df_preprocessed['Benennung (dt)']).toarray()\n",
    "\n",
    "        # Combine text features with other features\n",
    "        #X = np.concatenate((X, df_preprocessed[['center_x', 'center_y', 'center_z','length','width','height','theta_x','theta_y','theta_z']].values), axis=1)\n",
    "\n",
    "        y_pred = lgbm.predict(X)\n",
    "        y_pred = np.round(y_pred)\n",
    "\n",
    "        for index, row in df_preprocessed.iterrows():\n",
    "            if y_pred[index] == 1: \n",
    "                df_preprocessed.loc[index,'Relevant fuer Messung'] = 'Ja'\n",
    "            else:\n",
    "                df_preprocessed.loc[index,'Relevant fuer Messung'] = 'Nein'\n",
    "\n",
    "        df_preprocessed = df_preprocessed[df_preprocessed['Relevant fuer Messung'] == 'Ja']\n",
    "\n",
    "        df_preprocessed = df_preprocessed.loc[:,[\"Sachnummer\", \"Benennung (dt)\", \"Relevant fuer Messung\", \"Einheitsname\"]]\n",
    "\n",
    "        df_preprocessed.to_excel(f\"../data/predicted/{ncars[i]}_relevante_Bauteile.xlsx\")\n",
    "\n",
    "        logger.success(f\"The prediction is done and the result is stored here: data/predicted/{ncars[i]}_labeled_test.xlsx!\")\n",
    "\n",
    "        logger.info('__________________________________________________________________________________________')"
   ]
  },
  {
   "cell_type": "code",
   "execution_count": 19,
   "metadata": {},
   "outputs": [
    {
     "name": "stderr",
     "output_type": "stream",
     "text": [
      "\u001b[32m2023-05-15 16:26:27.312\u001b[0m | \u001b[1mINFO    \u001b[0m | \u001b[36mipynb.fs.full.Prepare_data\u001b[0m:\u001b[36mload_csv_into_df\u001b[0m:\u001b[36m34\u001b[0m - \u001b[1mLoading the data...\u001b[0m\n",
      "\u001b[32m2023-05-15 16:26:34.344\u001b[0m | \u001b[32m\u001b[1mSUCCESS \u001b[0m | \u001b[36mipynb.fs.full.Prepare_data\u001b[0m:\u001b[36mload_csv_into_df\u001b[0m:\u001b[36m68\u001b[0m - \u001b[32m\u001b[1m4 dataframe(s) were created.\u001b[0m\n",
      "\u001b[32m2023-05-15 16:26:34.345\u001b[0m | \u001b[1mINFO    \u001b[0m | \u001b[36mipynb.fs.full.Prepare_data\u001b[0m:\u001b[36mprepare_and_add_labels\u001b[0m:\u001b[36m106\u001b[0m - \u001b[1mStart preprocessing the data...\u001b[0m\n",
      "\u001b[32m2023-05-15 16:26:34.624\u001b[0m | \u001b[32m\u001b[1mSUCCESS \u001b[0m | \u001b[36mipynb.fs.full.Prepare_data\u001b[0m:\u001b[36mprepare_and_add_labels\u001b[0m:\u001b[36m184\u001b[0m - \u001b[32m\u001b[1mThe features are reduced and formated to the correct data type!\u001b[0m\n",
      "\u001b[32m2023-05-15 16:26:34.667\u001b[0m | \u001b[1mINFO    \u001b[0m | \u001b[36mipynb.fs.defs.Feature_Engineering\u001b[0m:\u001b[36mpreprocess_dataset\u001b[0m:\u001b[36m199\u001b[0m - \u001b[1mStart preprocessing the dataframe with 2394 samples...\u001b[0m\n",
      "\u001b[32m2023-05-15 16:26:36.777\u001b[0m | \u001b[32m\u001b[1mSUCCESS \u001b[0m | \u001b[36mipynb.fs.defs.Feature_Engineering\u001b[0m:\u001b[36mpreprocess_dataset\u001b[0m:\u001b[36m255\u001b[0m - \u001b[32m\u001b[1mThe dataset is successfully preprocessed. The new dataset contains 469 samples\u001b[0m\n",
      "\u001b[32m2023-05-15 16:26:36.778\u001b[0m | \u001b[1mINFO    \u001b[0m | \u001b[36m__main__\u001b[0m:\u001b[36mmain\u001b[0m:\u001b[36m26\u001b[0m - \u001b[1mStart predicting relevant parts for the NA7 ...\u001b[0m\n",
      "\u001b[32m2023-05-15 16:26:37.155\u001b[0m | \u001b[32m\u001b[1mSUCCESS \u001b[0m | \u001b[36m__main__\u001b[0m:\u001b[36mmain\u001b[0m:\u001b[36m55\u001b[0m - \u001b[32m\u001b[1mThe prediction is done and the result is stored here: data/predicted/NA7_labeled_test.xlsx!\u001b[0m\n",
      "\u001b[32m2023-05-15 16:26:37.157\u001b[0m | \u001b[1mINFO    \u001b[0m | \u001b[36m__main__\u001b[0m:\u001b[36mmain\u001b[0m:\u001b[36m57\u001b[0m - \u001b[1m__________________________________________________________________________________________\u001b[0m\n",
      "\u001b[32m2023-05-15 16:26:37.158\u001b[0m | \u001b[1mINFO    \u001b[0m | \u001b[36mipynb.fs.defs.Feature_Engineering\u001b[0m:\u001b[36mpreprocess_dataset\u001b[0m:\u001b[36m199\u001b[0m - \u001b[1mStart preprocessing the dataframe with 2511 samples...\u001b[0m\n",
      "\u001b[32m2023-05-15 16:26:39.930\u001b[0m | \u001b[32m\u001b[1mSUCCESS \u001b[0m | \u001b[36mipynb.fs.defs.Feature_Engineering\u001b[0m:\u001b[36mpreprocess_dataset\u001b[0m:\u001b[36m255\u001b[0m - \u001b[32m\u001b[1mThe dataset is successfully preprocessed. The new dataset contains 490 samples\u001b[0m\n",
      "\u001b[32m2023-05-15 16:26:39.931\u001b[0m | \u001b[1mINFO    \u001b[0m | \u001b[36m__main__\u001b[0m:\u001b[36mmain\u001b[0m:\u001b[36m26\u001b[0m - \u001b[1mStart predicting relevant parts for the G15 ...\u001b[0m\n",
      "\u001b[32m2023-05-15 16:26:40.289\u001b[0m | \u001b[32m\u001b[1mSUCCESS \u001b[0m | \u001b[36m__main__\u001b[0m:\u001b[36mmain\u001b[0m:\u001b[36m55\u001b[0m - \u001b[32m\u001b[1mThe prediction is done and the result is stored here: data/predicted/G15_labeled_test.xlsx!\u001b[0m\n",
      "\u001b[32m2023-05-15 16:26:40.290\u001b[0m | \u001b[1mINFO    \u001b[0m | \u001b[36m__main__\u001b[0m:\u001b[36mmain\u001b[0m:\u001b[36m57\u001b[0m - \u001b[1m__________________________________________________________________________________________\u001b[0m\n",
      "\u001b[32m2023-05-15 16:26:40.290\u001b[0m | \u001b[1mINFO    \u001b[0m | \u001b[36mipynb.fs.defs.Feature_Engineering\u001b[0m:\u001b[36mpreprocess_dataset\u001b[0m:\u001b[36m199\u001b[0m - \u001b[1mStart preprocessing the dataframe with 2870 samples...\u001b[0m\n",
      "\u001b[32m2023-05-15 16:26:43.149\u001b[0m | \u001b[32m\u001b[1mSUCCESS \u001b[0m | \u001b[36mipynb.fs.defs.Feature_Engineering\u001b[0m:\u001b[36mpreprocess_dataset\u001b[0m:\u001b[36m255\u001b[0m - \u001b[32m\u001b[1mThe dataset is successfully preprocessed. The new dataset contains 495 samples\u001b[0m\n",
      "\u001b[32m2023-05-15 16:26:43.151\u001b[0m | \u001b[1mINFO    \u001b[0m | \u001b[36m__main__\u001b[0m:\u001b[36mmain\u001b[0m:\u001b[36m26\u001b[0m - \u001b[1mStart predicting relevant parts for the NA5 ...\u001b[0m\n",
      "\u001b[32m2023-05-15 16:26:43.730\u001b[0m | \u001b[32m\u001b[1mSUCCESS \u001b[0m | \u001b[36m__main__\u001b[0m:\u001b[36mmain\u001b[0m:\u001b[36m55\u001b[0m - \u001b[32m\u001b[1mThe prediction is done and the result is stored here: data/predicted/NA5_labeled_test.xlsx!\u001b[0m\n",
      "\u001b[32m2023-05-15 16:26:43.732\u001b[0m | \u001b[1mINFO    \u001b[0m | \u001b[36m__main__\u001b[0m:\u001b[36mmain\u001b[0m:\u001b[36m57\u001b[0m - \u001b[1m__________________________________________________________________________________________\u001b[0m\n",
      "\u001b[32m2023-05-15 16:26:43.734\u001b[0m | \u001b[1mINFO    \u001b[0m | \u001b[36mipynb.fs.defs.Feature_Engineering\u001b[0m:\u001b[36mpreprocess_dataset\u001b[0m:\u001b[36m199\u001b[0m - \u001b[1mStart preprocessing the dataframe with 3050 samples...\u001b[0m\n",
      "\u001b[32m2023-05-15 16:26:46.932\u001b[0m | \u001b[32m\u001b[1mSUCCESS \u001b[0m | \u001b[36mipynb.fs.defs.Feature_Engineering\u001b[0m:\u001b[36mpreprocess_dataset\u001b[0m:\u001b[36m255\u001b[0m - \u001b[32m\u001b[1mThe dataset is successfully preprocessed. The new dataset contains 500 samples\u001b[0m\n",
      "\u001b[32m2023-05-15 16:26:46.933\u001b[0m | \u001b[1mINFO    \u001b[0m | \u001b[36m__main__\u001b[0m:\u001b[36mmain\u001b[0m:\u001b[36m26\u001b[0m - \u001b[1mStart predicting relevant parts for the G14 ...\u001b[0m\n",
      "\u001b[32m2023-05-15 16:26:47.354\u001b[0m | \u001b[32m\u001b[1mSUCCESS \u001b[0m | \u001b[36m__main__\u001b[0m:\u001b[36mmain\u001b[0m:\u001b[36m55\u001b[0m - \u001b[32m\u001b[1mThe prediction is done and the result is stored here: data/predicted/G14_labeled_test.xlsx!\u001b[0m\n",
      "\u001b[32m2023-05-15 16:26:47.355\u001b[0m | \u001b[1mINFO    \u001b[0m | \u001b[36m__main__\u001b[0m:\u001b[36mmain\u001b[0m:\u001b[36m57\u001b[0m - \u001b[1m__________________________________________________________________________________________\u001b[0m\n"
     ]
    }
   ],
   "source": [
    "if __name__ == \"__main__\":\n",
    "    \n",
    "    main()"
   ]
  },
  {
   "cell_type": "code",
   "execution_count": null,
   "metadata": {},
   "outputs": [],
   "source": []
  },
  {
   "cell_type": "code",
   "execution_count": null,
   "metadata": {},
   "outputs": [],
   "source": []
  }
 ],
 "metadata": {
  "kernelspec": {
   "display_name": "Python 3",
   "language": "python",
   "name": "python3"
  },
  "language_info": {
   "codemirror_mode": {
    "name": "ipython",
    "version": 3
   },
   "file_extension": ".py",
   "mimetype": "text/x-python",
   "name": "python",
   "nbconvert_exporter": "python",
   "pygments_lexer": "ipython3",
   "version": "3.10.10"
  },
  "orig_nbformat": 4
 },
 "nbformat": 4,
 "nbformat_minor": 2
}
