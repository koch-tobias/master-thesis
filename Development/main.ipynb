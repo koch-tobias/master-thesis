{
 "cells": [
  {
   "cell_type": "code",
   "execution_count": 1,
   "metadata": {},
   "outputs": [],
   "source": [
    "from pathlib import Path\n",
    "from loguru import logger\n",
    "import pickle\n",
    "import numpy as np\n",
    "from nltk.tokenize import WhitespaceTokenizer\n",
    "from ipynb.fs.defs.Feature_Engineering import add_new_features\n",
    "from ipynb.fs.defs.Feature_Engineering import preprocess_dataset\n",
    "from ipynb.fs.full.Prepare_data import prepare_and_add_labels\n",
    "from ipynb.fs.full.Prepare_data import prepare_text"
   ]
  },
  {
   "cell_type": "code",
   "execution_count": 2,
   "metadata": {},
   "outputs": [],
   "source": [
    "def main():\n",
    "    # Define the path to the folder containing the data (xls files)\n",
    "    data_path = Path(\"../data/original_data_new\")\n",
    "\n",
    "    df, ncar = prepare_and_add_labels(data_path, save_as_excel=False, move_to_archive=False)\n",
    "\n",
    "    df_new_features = add_new_features(df[0])\n",
    "\n",
    "    df_preprocessed, df_for_plot = preprocess_dataset(df_new_features)\n",
    "\n",
    "    logger.info(\"Start classifying the given dataset...\")\n",
    "    # Load model\n",
    "    model_path = \"../models/lgbm_03052023_1728.pkl\"\n",
    "    with open(model_path, \"rb\") as fid:\n",
    "        lgbm = pickle.load(fid)\n",
    "\n",
    "    vectorizer_path = \"../models/vectorizer_03052023_1728.pkl\"\n",
    "    # Load the vectorizer from the file\n",
    "    with open(vectorizer_path, 'rb') as f:\n",
    "        vectorizer = pickle.load(f)\n",
    "\n",
    "    # Get the vocabulary of the training data\n",
    "    with open('../models/vocabulary_03052023_1728.pkl', 'rb') as f:\n",
    "        vocabulary = pickle.load(f)\n",
    "\n",
    "    df_preprocessed[\"Benennung (dt)\"] = df_preprocessed.apply(lambda x: prepare_text(x[\"Benennung (dt)\"]), axis=1)\n",
    "\n",
    "    # Convert the vocabulary list to a dictionary\n",
    "    vocabulary_dict = {word: index for index, word in enumerate(vocabulary)}\n",
    "\n",
    "    # Set the vocabulary of the vectorizer to the loaded vocabulary\n",
    "    vectorizer.vocabulary_ = vocabulary_dict\n",
    "    X_text = vectorizer.transform(df_preprocessed['Benennung (dt)']).toarray()\n",
    "\n",
    "    # Combine text features with other features\n",
    "    X = np.concatenate((X_text, df_preprocessed[['center_x', 'center_y', 'center_z','length','width','height','theta_x','theta_y','theta_z']].values), axis=1)\n",
    "\n",
    "    y_pred = lgbm.predict(X, num_iteration=lgbm.best_iteration, force_row_wise=True)\n",
    "    y_pred = np.round(y_pred)\n",
    "\n",
    "    for index, row in df_preprocessed.iterrows():\n",
    "        if y_pred[index] == 1: \n",
    "            df_preprocessed.loc[index,'Relevant fuer Messung'] = 'Ja'\n",
    "        else:\n",
    "            df_preprocessed.loc[index,'Relevant fuer Messung'] = 'Nein'\n",
    "\n",
    "    df_preprocessed.to_excel(f\"../data/predicted/{ncar}_labeled_test.xlsx\")\n",
    "\n",
    "    logger.success(f\"The prediction is done and the result is stored here: data/predicted/{ncar}_labeled_test.xlsx!\")"
   ]
  },
  {
   "cell_type": "code",
   "execution_count": 3,
   "metadata": {},
   "outputs": [
    {
     "name": "stderr",
     "output_type": "stream",
     "text": [
      "\u001b[32m2023-05-03 17:30:20.105\u001b[0m | \u001b[1mINFO    \u001b[0m | \u001b[36mipynb.fs.full.Prepare_data\u001b[0m:\u001b[36mload_csv_into_df\u001b[0m:\u001b[36m34\u001b[0m - \u001b[1mLoading the data...\u001b[0m\n",
      "\u001b[32m2023-05-03 17:30:22.891\u001b[0m | \u001b[32m\u001b[1mSUCCESS \u001b[0m | \u001b[36mipynb.fs.full.Prepare_data\u001b[0m:\u001b[36mload_csv_into_df\u001b[0m:\u001b[36m65\u001b[0m - \u001b[32m\u001b[1m1 dataframe(s) were created.\u001b[0m\n",
      "\u001b[32m2023-05-03 17:30:22.892\u001b[0m | \u001b[1mINFO    \u001b[0m | \u001b[36mipynb.fs.full.Prepare_data\u001b[0m:\u001b[36mprepare_and_add_labels\u001b[0m:\u001b[36m104\u001b[0m - \u001b[1mStart preprocessing the data...\u001b[0m\n",
      "\u001b[32m2023-05-03 17:30:22.996\u001b[0m | \u001b[32m\u001b[1mSUCCESS \u001b[0m | \u001b[36mipynb.fs.full.Prepare_data\u001b[0m:\u001b[36mprepare_and_add_labels\u001b[0m:\u001b[36m155\u001b[0m - \u001b[32m\u001b[1mThe features are reduced and formated to the correct data type!\u001b[0m\n",
      "\u001b[32m2023-05-03 17:30:26.109\u001b[0m | \u001b[1mINFO    \u001b[0m | \u001b[36mipynb.fs.defs.Feature_Engineering\u001b[0m:\u001b[36mpreprocess_dataset\u001b[0m:\u001b[36m12\u001b[0m - \u001b[1mStart preprocessing the dataframe with 4585 samples...\u001b[0m\n",
      "\u001b[32m2023-05-03 17:30:26.128\u001b[0m | \u001b[32m\u001b[1mSUCCESS \u001b[0m | \u001b[36mipynb.fs.defs.Feature_Engineering\u001b[0m:\u001b[36mpreprocess_dataset\u001b[0m:\u001b[36m40\u001b[0m - \u001b[32m\u001b[1mThe dataset is successfully preprocessed. The new dataset contains 854 samples\u001b[0m\n",
      "\u001b[32m2023-05-03 17:30:26.129\u001b[0m | \u001b[1mINFO    \u001b[0m | \u001b[36m__main__\u001b[0m:\u001b[36mmain\u001b[0m:\u001b[36m11\u001b[0m - \u001b[1mStart classifying the given dataset...\u001b[0m\n",
      "\u001b[32m2023-05-03 17:30:28.336\u001b[0m | \u001b[32m\u001b[1mSUCCESS \u001b[0m | \u001b[36m__main__\u001b[0m:\u001b[36mmain\u001b[0m:\u001b[36m49\u001b[0m - \u001b[32m\u001b[1mThe prediction is done and the result is stored here: data/predicted/G65_labeled_test.xlsx!\u001b[0m\n"
     ]
    }
   ],
   "source": [
    "if __name__ == \"__main__\":\n",
    "    \n",
    "    main()"
   ]
  },
  {
   "cell_type": "code",
   "execution_count": null,
   "metadata": {},
   "outputs": [],
   "source": []
  }
 ],
 "metadata": {
  "kernelspec": {
   "display_name": "Python 3",
   "language": "python",
   "name": "python3"
  },
  "language_info": {
   "codemirror_mode": {
    "name": "ipython",
    "version": 3
   },
   "file_extension": ".py",
   "mimetype": "text/x-python",
   "name": "python",
   "nbconvert_exporter": "python",
   "pygments_lexer": "ipython3",
   "version": "3.10.10"
  },
  "orig_nbformat": 4
 },
 "nbformat": 4,
 "nbformat_minor": 2
}
