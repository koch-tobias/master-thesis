{
 "cells": [
  {
   "cell_type": "code",
   "execution_count": 1,
   "metadata": {},
   "outputs": [
    {
     "name": "stdout",
     "output_type": "stream",
     "text": [
      "Conversion successful!\n"
     ]
    }
   ],
   "source": [
    "import pandas as pd\n",
    "\n",
    "def convert_xlsx_to_csv(xlsx_file, csv_file):\n",
    "    try:\n",
    "        df = pd.read_excel(xlsx_file)\n",
    "        df.to_csv(csv_file, index=True)\n",
    "        print(\"Conversion successful!\")\n",
    "    except Exception as e:\n",
    "        print(\"Error occurred during conversion:\", str(e))\n",
    "\n",
    "# Example usage:\n",
    "xlsx_file = \"C:/Users/q617269/Desktop/labeled/G70_labeled.xlsx\"\n",
    "csv_file = \"C:/Users/q617269/Desktop/labeled/G70_labeled.csv\"\n",
    "convert_xlsx_to_csv(xlsx_file, csv_file)\n"
   ]
  }
 ],
 "metadata": {
  "kernelspec": {
   "display_name": "Python 3",
   "language": "python",
   "name": "python3"
  },
  "language_info": {
   "codemirror_mode": {
    "name": "ipython",
    "version": 3
   },
   "file_extension": ".py",
   "mimetype": "text/x-python",
   "name": "python",
   "nbconvert_exporter": "python",
   "pygments_lexer": "ipython3",
   "version": "3.10.10"
  },
  "orig_nbformat": 4
 },
 "nbformat": 4,
 "nbformat_minor": 2
}
