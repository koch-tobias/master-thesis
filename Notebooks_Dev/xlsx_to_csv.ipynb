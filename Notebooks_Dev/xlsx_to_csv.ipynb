{
 "cells": [
  {
   "cell_type": "code",
   "execution_count": 1,
   "metadata": {},
   "outputs": [
    {
     "name": "stdout",
     "output_type": "stream",
     "text": [
      "Conversion successful!\n"
     ]
    }
   ],
   "source": [
    "import pandas as pd\n",
    "\n",
    "def convert_xlsx_to_csv(xlsx_file, csv_file):\n",
    "    try:\n",
    "        df = pd.read_excel(xlsx_file)\n",
    "        df.to_csv(csv_file, index=True)\n",
    "        print(\"Conversion successful!\")\n",
    "    except Exception as e:\n",
    "        print(\"Error occurred during conversion:\", str(e))\n",
    "\n",
    "# Example usage:\n",
    "xlsx_file = \"C:/Users/q617269/Desktop/labeled/G70_labeled.xlsx\"\n",
    "csv_file = \"C:/Users/q617269/Desktop/labeled/G70_labeled.csv\"\n",
    "convert_xlsx_to_csv(xlsx_file, csv_file)\n"
   ]
  },
  {
   "cell_type": "code",
   "execution_count": 5,
   "metadata": {},
   "outputs": [],
   "source": [
    "import json\n",
    "import xml.etree.ElementTree as ET\n",
    "\n",
    "# Load the JSON file\n",
    "with open('response.json', 'r') as file:\n",
    "   data = json.load(file)\n",
    "\n",
    "# Create the root element of the XML tree\n",
    "root = ET.Element('root')\n",
    "\n",
    "# Convert the JSON data to XML elements\n",
    "for key, value in data.items():\n",
    "   node = ET.SubElement(root, key)\n",
    "   for item in value:\n",
    "       element = ET.SubElement(node, 'item')\n",
    "       element.text = item\n",
    "\n",
    "# Save the XML tree to a file\n",
    "tree = ET.ElementTree(root)\n",
    "tree.write('response.xml', encoding='utf-8', xml_declaration=True)"
   ]
  },
  {
   "cell_type": "code",
   "execution_count": null,
   "metadata": {},
   "outputs": [],
   "source": []
  }
 ],
 "metadata": {
  "kernelspec": {
   "display_name": "Python 3",
   "language": "python",
   "name": "python3"
  },
  "language_info": {
   "codemirror_mode": {
    "name": "ipython",
    "version": 3
   },
   "file_extension": ".py",
   "mimetype": "text/x-python",
   "name": "python",
   "nbconvert_exporter": "python",
   "pygments_lexer": "ipython3",
   "version": "3.10.10"
  },
  "orig_nbformat": 4
 },
 "nbformat": 4,
 "nbformat_minor": 2
}
